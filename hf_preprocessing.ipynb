{
  "nbformat": 4,
  "nbformat_minor": 0,
  "metadata": {
    "colab": {
      "provenance": [],
      "gpuType": "T4",
      "authorship_tag": "ABX9TyNCDMQC2PWzmNWUhzTasP2J",
      "include_colab_link": true
    },
    "kernelspec": {
      "name": "python3",
      "display_name": "Python 3"
    },
    "language_info": {
      "name": "python"
    },
    "accelerator": "GPU"
  },
  "cells": [
    {
      "cell_type": "markdown",
      "metadata": {
        "id": "view-in-github",
        "colab_type": "text"
      },
      "source": [
        "<a href=\"https://colab.research.google.com/github/Hello-rashmi/nullclass-1P-2T/blob/main/hf_preprocessing.ipynb\" target=\"_parent\"><img src=\"https://colab.research.google.com/assets/colab-badge.svg\" alt=\"Open In Colab\"/></a>"
      ]
    },
    {
      "cell_type": "code",
      "source": [
        "!pip install transformers"
      ],
      "metadata": {
        "id": "rjXngEyN4vc7",
        "colab": {
          "base_uri": "https://localhost:8080/"
        },
        "outputId": "a2dbdd74-f065-4b8c-d907-137bb415eae4"
      },
      "execution_count": 1,
      "outputs": [
        {
          "output_type": "stream",
          "name": "stdout",
          "text": [
            "Requirement already satisfied: transformers in /usr/local/lib/python3.11/dist-packages (4.52.4)\n",
            "Requirement already satisfied: filelock in /usr/local/lib/python3.11/dist-packages (from transformers) (3.18.0)\n",
            "Requirement already satisfied: huggingface-hub<1.0,>=0.30.0 in /usr/local/lib/python3.11/dist-packages (from transformers) (0.33.0)\n",
            "Requirement already satisfied: numpy>=1.17 in /usr/local/lib/python3.11/dist-packages (from transformers) (2.0.2)\n",
            "Requirement already satisfied: packaging>=20.0 in /usr/local/lib/python3.11/dist-packages (from transformers) (24.2)\n",
            "Requirement already satisfied: pyyaml>=5.1 in /usr/local/lib/python3.11/dist-packages (from transformers) (6.0.2)\n",
            "Requirement already satisfied: regex!=2019.12.17 in /usr/local/lib/python3.11/dist-packages (from transformers) (2024.11.6)\n",
            "Requirement already satisfied: requests in /usr/local/lib/python3.11/dist-packages (from transformers) (2.32.3)\n",
            "Requirement already satisfied: tokenizers<0.22,>=0.21 in /usr/local/lib/python3.11/dist-packages (from transformers) (0.21.2)\n",
            "Requirement already satisfied: safetensors>=0.4.3 in /usr/local/lib/python3.11/dist-packages (from transformers) (0.5.3)\n",
            "Requirement already satisfied: tqdm>=4.27 in /usr/local/lib/python3.11/dist-packages (from transformers) (4.67.1)\n",
            "Requirement already satisfied: fsspec>=2023.5.0 in /usr/local/lib/python3.11/dist-packages (from huggingface-hub<1.0,>=0.30.0->transformers) (2025.3.2)\n",
            "Requirement already satisfied: typing-extensions>=3.7.4.3 in /usr/local/lib/python3.11/dist-packages (from huggingface-hub<1.0,>=0.30.0->transformers) (4.14.0)\n",
            "Requirement already satisfied: hf-xet<2.0.0,>=1.1.2 in /usr/local/lib/python3.11/dist-packages (from huggingface-hub<1.0,>=0.30.0->transformers) (1.1.5)\n",
            "Requirement already satisfied: charset-normalizer<4,>=2 in /usr/local/lib/python3.11/dist-packages (from requests->transformers) (3.4.2)\n",
            "Requirement already satisfied: idna<4,>=2.5 in /usr/local/lib/python3.11/dist-packages (from requests->transformers) (3.10)\n",
            "Requirement already satisfied: urllib3<3,>=1.21.1 in /usr/local/lib/python3.11/dist-packages (from requests->transformers) (2.4.0)\n",
            "Requirement already satisfied: certifi>=2017.4.17 in /usr/local/lib/python3.11/dist-packages (from requests->transformers) (2025.6.15)\n"
          ]
        }
      ]
    },
    {
      "cell_type": "code",
      "source": [
        "from transformers import CLIPTokenizer, CLIPTextModel\n",
        "import torch\n",
        "model_name = \"openai/clip-vit-base-patch32\"\n",
        "tokenizer = CLIPTokenizer.from_pretrained(model_name)\n",
        "model = CLIPTextModel.from_pretrained(model_name)\n",
        "\n",
        "#Sample text\n",
        "text = input(\"add your text\")\n",
        "\n",
        "#step 1 - tokenization\n",
        "tokens = tokenizer.tokenize(text)\n",
        "print(\"Tokens\",tokens)\n",
        "#step 2 - Encoding\n",
        "inputs = tokenizer(text,return_tensors = \"pt\")\n",
        "print(\"Token Ids:\",inputs['input_ids'])\n",
        "#step 3 - Get Embeddings\n",
        "with torch.no_grad():\n",
        "  outputs = model(**inputs)\n",
        "  embeddings = outputs.last_hidden_state\n",
        "\n",
        "print(\"embedding shape:\", embeddings.shape)\n",
        "print(\"first token embedding:\",embeddings[0][0])"
      ],
      "metadata": {
        "colab": {
          "base_uri": "https://localhost:8080/"
        },
        "id": "Pifxk2ApeWFb",
        "outputId": "a97ca619-b341-4207-f1b1-d39d48d7432f"
      },
      "execution_count": 13,
      "outputs": [
        {
          "output_type": "stream",
          "name": "stdout",
          "text": [
            "add your texthello world!!!!!\n",
            "Tokens ['hello</w>', 'world</w>', '!!!!!</w>']\n",
            "Token Ids: tensor([[49406,  3306,  1002,  5203, 49407]])\n",
            "embedding shape: torch.Size([1, 5, 512])\n",
            "first token embedding: tensor([ 3.3929e-01,  1.1646e-01,  1.0195e-01,  3.0953e-02, -2.6387e+01,\n",
            "         1.3212e-01,  1.1261e-01,  1.8247e-01,  2.6428e-01,  3.2263e-01,\n",
            "         3.4661e-01,  1.0922e-01,  7.1201e-03,  7.0502e-04,  7.4896e-02,\n",
            "        -3.2345e-01,  3.4532e-01,  1.1857e-01,  5.5343e-02,  1.7649e-01,\n",
            "        -1.5766e-01,  3.6250e-01,  4.7504e-01,  1.5756e-01,  2.3235e-01,\n",
            "        -1.2202e-02,  8.7776e-02,  2.9943e-01,  8.5849e-02,  4.1395e-01,\n",
            "         4.8519e-01,  8.9535e-02,  7.6452e-02, -1.0454e-01,  2.7053e-01,\n",
            "         1.7051e-01,  2.9801e-01,  1.1737e-01,  2.7325e-01,  4.1896e-01,\n",
            "        -7.8998e-02,  2.4592e-01,  2.7968e-02, -5.5964e-02,  3.3733e-01,\n",
            "        -3.5943e-02,  5.7877e-02, -4.1237e-02, -1.8685e-01, -9.0855e-02,\n",
            "         3.0675e-01,  9.1194e-02,  6.9840e-01, -1.7490e-01, -8.3456e-02,\n",
            "         5.4305e-01,  1.8681e-01,  2.9487e-02,  1.3833e-01,  1.6182e-01,\n",
            "         1.4033e-01,  1.7783e-01,  2.5432e-01, -4.1904e-01,  3.7537e-01,\n",
            "         5.2446e-01,  4.2682e-01,  2.2319e-01, -3.2791e-02,  1.8223e-01,\n",
            "         5.1396e-01,  1.8568e-01,  1.1753e-01,  1.6382e-01,  8.4150e-02,\n",
            "         2.2245e-01,  1.2971e-01,  2.3819e-01,  2.3099e-01,  3.5978e-01,\n",
            "         4.2028e-02,  3.2074e-01,  6.0161e-02,  8.6929e-02,  1.4915e-01,\n",
            "         2.1177e-01,  4.8079e-02,  1.9598e-01,  2.2450e-02,  5.5951e-01,\n",
            "         6.5575e-02,  1.1100e-01,  1.7792e-01,  1.6573e-02, -8.7341e-02,\n",
            "        -2.3337e-01,  3.7736e-01,  3.4230e-01,  1.9356e-01,  2.6906e-01,\n",
            "        -3.4432e-02,  7.1097e-02,  2.2012e-01,  7.7768e-02,  3.9705e-01,\n",
            "         1.1784e-01,  1.9482e-01,  2.5045e-01,  2.9716e-02,  1.6770e-02,\n",
            "         8.6425e-02,  1.8326e-01,  1.1139e-01,  9.2497e-02, -1.7236e-01,\n",
            "        -3.8837e-02,  1.5026e-01,  2.1044e-01,  2.9744e-01,  3.4405e-01,\n",
            "         2.1646e-01,  9.2785e-02,  1.4074e-01,  2.8314e-01,  4.2036e-01,\n",
            "         1.8265e-02,  1.2561e-02,  4.5442e-01,  4.4821e-01,  9.0663e-02,\n",
            "         3.3488e-01,  2.6881e-01,  2.3702e-01, -1.5388e-01,  6.4863e-01,\n",
            "         2.4228e-01,  9.0704e-02,  3.8039e-01,  3.4555e-01,  1.4619e-01,\n",
            "         2.6006e-01, -1.0255e-01,  4.2032e-02,  3.0088e-01,  2.1287e-01,\n",
            "        -4.8641e-02,  2.1056e-01, -5.2680e-02,  2.8172e-01,  4.1783e-01,\n",
            "         2.1899e-02,  2.7935e-01,  2.1226e-01,  3.4168e-01, -1.3543e-01,\n",
            "         4.6761e-04,  2.2996e-01,  3.5464e-01,  1.2903e-02,  1.5357e-01,\n",
            "         2.3965e-01,  1.9345e-01,  2.1781e-01, -1.9616e-01,  2.0033e-02,\n",
            "         1.7403e-02, -3.5713e-01,  8.6290e-02,  1.3835e-01,  6.6454e-02,\n",
            "         1.0930e-01,  3.4038e-01,  7.8538e-02,  3.0848e-01,  3.9887e-01,\n",
            "         3.3865e-01,  4.6727e-01,  2.4861e-01,  2.9839e-01,  3.1253e-02,\n",
            "        -1.8533e-02,  3.2973e-01,  2.8026e-01,  8.1467e-02, -2.9554e-01,\n",
            "         4.5662e-01,  1.2798e-02,  3.5228e-01,  2.0983e-02,  7.2965e-02,\n",
            "         1.3456e-01,  1.3703e-01, -2.6577e-02, -3.3296e-02,  2.1300e-01,\n",
            "         4.3936e-01,  1.9925e-01,  5.9729e-01,  2.1399e-01, -1.9353e-01,\n",
            "         1.9700e-02,  3.6838e-01,  3.3283e-01,  1.7525e+00,  1.9376e-01,\n",
            "         1.8626e-01,  2.3400e-01, -3.1452e-02,  6.9551e-02,  3.9092e-01,\n",
            "         1.7878e-01,  7.0961e-02, -9.3767e-02,  1.8025e-01,  2.2111e-01,\n",
            "         2.2840e-01,  2.3356e-01, -3.9223e-02,  9.3418e-02,  1.3625e-01,\n",
            "         4.7536e-01,  1.7665e-01, -9.2021e-02,  7.7510e-02,  4.9853e-01,\n",
            "         2.9706e-01,  3.4669e-01, -2.4447e-02,  2.6751e-02,  6.3478e-02,\n",
            "         3.2382e-01,  1.4583e-01,  3.4434e-02,  1.0325e-01,  8.1258e-02,\n",
            "         1.3580e-01,  1.4968e-01,  2.1933e-01,  4.4559e-01, -1.2307e-01,\n",
            "         4.8356e-01,  8.7391e-02,  2.5906e-01,  3.4729e-03,  3.3549e-01,\n",
            "        -1.3067e-02,  3.0434e-01, -4.9418e-02,  5.2480e-02,  1.1855e-01,\n",
            "         1.0876e-01,  2.7771e-01,  1.9692e-01,  1.9789e-01,  2.0866e-01,\n",
            "         1.4961e-01,  2.1814e-01,  2.9107e-02,  1.8185e-01, -3.8790e-02,\n",
            "         1.9284e-01, -9.7328e-03,  3.5204e-01,  9.2499e-02,  1.9029e-01,\n",
            "        -9.5334e-02, -1.0522e-02,  3.3396e-01,  2.4262e-01,  2.4807e-01,\n",
            "         9.2094e-02,  1.1450e-01,  5.0185e-02,  1.5863e-01,  3.9055e-01,\n",
            "         6.8026e-01,  2.7846e-01, -5.1242e-02,  2.4990e-01, -6.1766e-02,\n",
            "         2.3743e-01, -6.1679e-03,  2.5335e-01,  4.5184e-02,  1.2315e-01,\n",
            "         1.5208e-01,  1.9074e-01, -2.0158e-01, -4.8439e-02,  8.7651e-02,\n",
            "        -2.2834e-01,  3.0765e-01,  1.8012e-01, -3.9501e-02,  1.3158e-01,\n",
            "         7.3771e-02, -3.0579e-01,  1.9621e-01,  2.0622e-01,  2.3439e-01,\n",
            "         1.2091e-01,  1.6907e-01, -1.3198e-01,  3.2400e-01,  7.7457e-02,\n",
            "         1.4126e-02, -4.7577e+00, -2.6385e-02,  3.4904e-01,  4.0151e-02,\n",
            "         3.0007e-01,  2.1831e-01,  1.6660e-01,  1.0623e-01, -6.9769e-02,\n",
            "         1.0128e-01,  1.4954e-01,  1.8338e-01,  3.0045e-01,  9.3510e-02,\n",
            "         8.6053e-02,  1.8843e-01,  2.5577e-01,  1.7850e-01,  1.4964e-01,\n",
            "         1.7210e-01, -1.7556e-01,  4.3432e-01,  6.4727e-02,  1.7782e-01,\n",
            "         1.4694e-01,  1.3337e-02,  9.8139e-02,  3.1715e-01,  1.1928e-01,\n",
            "         3.0381e-01,  4.9751e-01,  1.0080e-01,  3.6414e-01,  4.5651e-01,\n",
            "         1.5656e-01,  4.0294e-01,  1.2763e-01,  8.9569e-02, -5.1492e-02,\n",
            "         3.6258e-01, -5.0076e-02,  1.8341e-02,  7.9475e-02,  3.8081e-01,\n",
            "         3.9547e-01, -2.7831e-01,  8.3226e-03,  2.3961e-01,  8.9145e-02,\n",
            "         5.9693e-02,  1.8675e-01,  4.9651e-02,  1.7677e-01,  1.0615e-01,\n",
            "        -1.4301e-02, -2.9317e-02,  9.1342e-02,  3.5939e-01,  2.6968e-01,\n",
            "         2.8494e-01,  7.7471e-02,  6.8961e-02,  5.8106e-01,  4.6827e-02,\n",
            "         2.8734e-01,  1.2747e-01,  4.4451e-01,  1.9210e-01, -4.0526e-01,\n",
            "         1.8954e-01,  1.3218e-01,  9.4064e-02, -2.2745e-02,  1.4470e-01,\n",
            "         4.0115e-01,  1.0226e-01,  5.5279e-02,  4.4243e-01,  4.4469e-02,\n",
            "         3.9174e-01,  5.0202e-01, -1.6760e-01,  7.6223e-03,  1.3403e-01,\n",
            "         3.4314e-01,  7.4080e-02,  3.6136e-01,  2.9896e-01,  7.8330e-03,\n",
            "         2.2120e-01,  5.7315e-01,  3.5027e-01,  3.1521e-01, -2.8212e-03,\n",
            "         1.5789e-01, -5.7317e-02, -1.0491e-01,  2.6092e-01, -1.1441e-01,\n",
            "         3.0897e-01,  5.6345e-01,  2.7444e-01, -1.4230e-02,  7.4693e-01,\n",
            "         1.3127e-01,  1.9329e-01,  4.4416e-01,  2.7487e-01,  1.9356e-01,\n",
            "         3.5290e-01,  2.2557e-02,  2.7132e-01,  3.6124e-02, -2.9737e-02,\n",
            "         3.2815e-01,  1.5871e+00,  2.2240e-01,  4.7486e-01, -1.1972e-01,\n",
            "        -9.8441e-02,  5.1382e-02,  3.5944e-01,  1.8043e-01, -2.0968e-01,\n",
            "        -2.0518e-01,  2.3353e-01,  2.4745e-01,  2.9605e-01,  1.0246e-02,\n",
            "         1.2716e-01, -7.7764e-02,  2.9602e-01,  1.4869e-01,  4.1450e-01,\n",
            "        -1.9283e-01,  1.9027e-01,  9.0213e-02,  1.6108e-01,  3.1684e-01,\n",
            "         2.6648e-01,  1.1629e-01,  1.7061e-01,  2.0059e-01,  1.8323e-01,\n",
            "         1.3390e-01, -2.2700e-01,  2.3754e-01,  3.5517e-02,  5.9463e-01,\n",
            "         9.7150e-02,  2.6380e-01,  2.0665e-01,  2.5053e-01,  3.4226e-01,\n",
            "         2.1001e-01,  2.9202e-02,  3.6820e-02,  1.8393e-01, -1.7155e-01,\n",
            "         1.3014e-01,  3.2316e-01,  9.4779e-02, -3.0266e-02,  2.6172e-01,\n",
            "        -3.1870e-01,  3.5229e-01,  2.7321e-01,  2.2061e-01,  1.0159e-01,\n",
            "         2.8176e-01,  1.6779e-01,  2.0702e-01, -1.0708e-01, -8.7862e-03,\n",
            "         3.6870e-01,  1.6538e-01,  3.0966e-01,  1.9793e-01,  1.4974e-01,\n",
            "         1.6496e-01,  3.6922e-01, -2.2653e-02,  1.3770e-01,  5.9065e-02,\n",
            "         1.3810e-01,  1.9882e-01,  4.2934e-01,  4.8486e-01,  1.3171e-01,\n",
            "         1.7663e-01, -1.0151e-01,  4.3057e-01,  1.4105e-01,  2.8443e-01,\n",
            "         3.8935e-01, -2.1793e-01,  8.3217e-01, -7.9066e-02,  2.5146e-02,\n",
            "         4.4922e-02,  1.0539e-01,  2.9710e-01,  3.1918e-01,  2.4677e-01,\n",
            "         5.9064e-01,  1.0130e-01])\n"
          ]
        }
      ]
    },
    {
      "cell_type": "code",
      "source": [],
      "metadata": {
        "id": "GAnsjooVh5lP"
      },
      "execution_count": null,
      "outputs": []
    }
  ]
}